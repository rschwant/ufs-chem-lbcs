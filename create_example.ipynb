{
 "cells": [
  {
   "cell_type": "markdown",
   "metadata": {},
   "source": [
    "# Create Boundary Conditions from NAQFC for RRFS-CMAQ\n",
    "\n",
    "To use:\n",
    " 1) First load the modules needed \n",
    " 2) Fix a RRFS met boundary condition file (this is a dummy file just to get the location and halo layers)\n",
    " 3) Create emissions for all months"
   ]
  },
  {
   "cell_type": "markdown",
   "metadata": {},
   "source": [
    "### Step 1"
   ]
  },
  {
   "cell_type": "code",
   "execution_count": 1,
   "metadata": {},
   "outputs": [
    {
     "name": "stderr",
     "output_type": "stream",
     "text": [
      "/scratch2/BMC/rcm1/rhs/anaconda3/envs/py36_monet/lib/python3.6/site-packages/pyresample/bilinear/__init__.py:49: UserWarning: XArray and/or zarr not found, XArrayBilinearResampler won't be available.\n",
      "  warnings.warn(\"XArray and/or zarr not found, XArrayBilinearResampler won't be available.\")\n"
     ]
    }
   ],
   "source": [
    "import regrid_naqfc_to_ufs as rnu\n",
    "import xarray as xr \n",
    "from numpy import arange\n",
    "import os"
   ]
  },
  {
   "cell_type": "markdown",
   "metadata": {},
   "source": [
    "### Step 2"
   ]
  },
  {
   "cell_type": "code",
   "execution_count": 2,
   "metadata": {},
   "outputs": [],
   "source": [
    "rrfs_boundary = 'lbcs_13/gfs_bndy.tile7.000.nc' # a RRFS MET BNDY FILE\n",
    "q = xr.open_dataset(rrfs_boundary)\n",
    "drop_vars = [n for n in q.data_vars if 'o3mr' not in n] # drops all variables except o3mr to create a dummy variable\n",
    "q.drop(drop_vars).rename({'o3mr_bottom':'o3_bottom','o3mr_top':'o3_top',\n",
    "                          'o3mr_left':'o3_left','o3mr_right':'o3_right'}).to_netcdf('lbcs_13/dummy_bndy.nc')"
   ]
  },
  {
   "cell_type": "markdown",
   "metadata": {},
   "source": [
    "### Step 3"
   ]
  },
  {
   "cell_type": "code",
   "execution_count": 3,
   "metadata": {},
   "outputs": [
    {
     "name": "stdout",
     "output_type": "stream",
     "text": [
      "Processing month...  01\n",
      "interpolating bottom\n",
      "interpolating top\n",
      "interpolating right\n",
      "interpolating left\n",
      "  Outputing to: lbcs_13_bndy/gfs_bndy_chem_01.tile7.000.nc\n",
      "Processing month...  02\n",
      "interpolating bottom\n",
      "interpolating top\n",
      "interpolating right\n",
      "interpolating left\n",
      "  Outputing to: lbcs_13_bndy/gfs_bndy_chem_02.tile7.000.nc\n",
      "Processing month...  03\n",
      "interpolating bottom\n",
      "interpolating top\n",
      "interpolating right\n",
      "interpolating left\n",
      "  Outputing to: lbcs_13_bndy/gfs_bndy_chem_03.tile7.000.nc\n",
      "Processing month...  04\n",
      "interpolating bottom\n",
      "interpolating top\n",
      "interpolating right\n",
      "interpolating left\n",
      "  Outputing to: lbcs_13_bndy/gfs_bndy_chem_04.tile7.000.nc\n",
      "Processing month...  05\n",
      "interpolating bottom\n",
      "interpolating top\n",
      "interpolating right\n",
      "interpolating left\n",
      "  Outputing to: lbcs_13_bndy/gfs_bndy_chem_05.tile7.000.nc\n",
      "Processing month...  06\n",
      "interpolating bottom\n",
      "interpolating top\n",
      "interpolating right\n",
      "interpolating left\n",
      "  Outputing to: lbcs_13_bndy/gfs_bndy_chem_06.tile7.000.nc\n",
      "Processing month...  07\n",
      "interpolating bottom\n",
      "interpolating top\n",
      "interpolating right\n",
      "interpolating left\n",
      "  Outputing to: lbcs_13_bndy/gfs_bndy_chem_07.tile7.000.nc\n",
      "Processing month...  08\n",
      "interpolating bottom\n",
      "interpolating top\n",
      "interpolating right\n",
      "interpolating left\n",
      "  Outputing to: lbcs_13_bndy/gfs_bndy_chem_08.tile7.000.nc\n",
      "Processing month...  09\n",
      "interpolating bottom\n",
      "interpolating top\n",
      "interpolating right\n",
      "interpolating left\n",
      "  Outputing to: lbcs_13_bndy/gfs_bndy_chem_09.tile7.000.nc\n",
      "Processing month...  10\n",
      "interpolating bottom\n",
      "interpolating top\n",
      "interpolating right\n",
      "interpolating left\n",
      "  Outputing to: lbcs_13_bndy/gfs_bndy_chem_10.tile7.000.nc\n",
      "Processing month...  11\n",
      "interpolating bottom\n",
      "interpolating top\n",
      "interpolating right\n",
      "interpolating left\n",
      "  Outputing to: lbcs_13_bndy/gfs_bndy_chem_11.tile7.000.nc\n",
      "Processing month...  12\n",
      "interpolating bottom\n",
      "interpolating top\n",
      "interpolating right\n",
      "interpolating left\n",
      "  Outputing to: lbcs_13_bndy/gfs_bndy_chem_12.tile7.000.nc\n"
     ]
    }
   ],
   "source": [
    "months = [str(i).zfill(2) for i in arange(1,13)]\n",
    "output_path = 'lbcs_13_bndy'\n",
    "# check if path exists\n",
    "if not os.path.isdir(output_path): \n",
    "    os.makedirs(output_path)\n",
    "for m in months:\n",
    "    print('Processing month... ',m)\n",
    "    boundary_file = 'lbcs_13/dummy_bndy.nc' # edit this to match the output in step 2\n",
    "    grid_file = 'lbcs_13/grid_spec.nc' # point to the grid_spec.nc from RRFS\n",
    "    naqfc_bndy_file = 'aqm_conus_12km_geos_2006{}_static_35L.ncf'.format(m) # NAQFC Boundary Condition\n",
    "    d = rnu.fix_all(boundary_file, naqfc_bndy_file, grid_fname=grid_file)\n",
    "    output_filename = os.path.join(output_path, 'gfs_bndy_chem_{}.tile7.000.nc'.format(m))\n",
    "    print('  Outputing to:',output_filename)\n",
    "    d.to_netcdf(output_filename)\n",
    "\n"
   ]
  },
  {
   "cell_type": "code",
   "execution_count": null,
   "metadata": {},
   "outputs": [],
   "source": []
  },
  {
   "cell_type": "code",
   "execution_count": null,
   "metadata": {},
   "outputs": [],
   "source": []
  },
  {
   "cell_type": "code",
   "execution_count": null,
   "metadata": {},
   "outputs": [],
   "source": []
  },
  {
   "cell_type": "code",
   "execution_count": null,
   "metadata": {
    "scrolled": true
   },
   "outputs": [],
   "source": []
  },
  {
   "cell_type": "code",
   "execution_count": null,
   "metadata": {},
   "outputs": [],
   "source": []
  },
  {
   "cell_type": "code",
   "execution_count": null,
   "metadata": {
    "scrolled": true
   },
   "outputs": [],
   "source": []
  },
  {
   "cell_type": "code",
   "execution_count": null,
   "metadata": {},
   "outputs": [],
   "source": []
  },
  {
   "cell_type": "code",
   "execution_count": null,
   "metadata": {},
   "outputs": [],
   "source": []
  },
  {
   "cell_type": "code",
   "execution_count": null,
   "metadata": {},
   "outputs": [],
   "source": []
  },
  {
   "cell_type": "code",
   "execution_count": null,
   "metadata": {},
   "outputs": [],
   "source": []
  }
 ],
 "metadata": {
  "kernelspec": {
   "display_name": "Python 3",
   "language": "python",
   "name": "python3"
  },
  "language_info": {
   "codemirror_mode": {
    "name": "ipython",
    "version": 3
   },
   "file_extension": ".py",
   "mimetype": "text/x-python",
   "name": "python",
   "nbconvert_exporter": "python",
   "pygments_lexer": "ipython3",
   "version": "3.6.12"
  }
 },
 "nbformat": 4,
 "nbformat_minor": 4
}
