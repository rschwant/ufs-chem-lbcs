{
 "cells": [
  {
   "cell_type": "code",
   "execution_count": 57,
   "metadata": {},
   "outputs": [],
   "source": [
    "import regrid_naqfc_to_ufs as rnu"
   ]
  },
  {
   "cell_type": "code",
   "execution_count": 2,
   "metadata": {},
   "outputs": [
    {
     "name": "stdout",
     "output_type": "stream",
     "text": [
      "interpolating bottom\n"
     ]
    },
    {
     "ename": "ValueError",
     "evalue": "arguments without labels along dimension 'x' cannot be aligned because they have different dimension size(s) {200} than the size of the aligned dimension labels: 396",
     "output_type": "error",
     "traceback": [
      "\u001b[0;31m---------------------------------------------------------------------------\u001b[0m",
      "\u001b[0;31mValueError\u001b[0m                                Traceback (most recent call last)",
      "\u001b[0;32m<ipython-input-2-a19a5986e949>\u001b[0m in \u001b[0;36m<module>\u001b[0;34m()\u001b[0m\n\u001b[1;32m      2\u001b[0m d = rnu.fix_all('lbcs/gfs_bndy_chem_'+date+'.tile7.000.nc',\n\u001b[1;32m      3\u001b[0m                 \u001b[0;34m'aqm_conus_12km_geos_2006'\u001b[0m\u001b[0;34m+\u001b[0m\u001b[0mdate\u001b[0m\u001b[0;34m+\u001b[0m\u001b[0;34m'_static_35L.ncf'\u001b[0m\u001b[0;34m,\u001b[0m\u001b[0;34m\u001b[0m\u001b[0;34m\u001b[0m\u001b[0m\n\u001b[0;32m----> 4\u001b[0;31m                 grid_fname='lbcs_13/grid_spec.nc')\n\u001b[0m\u001b[1;32m      5\u001b[0m \u001b[0mprint\u001b[0m\u001b[0;34m(\u001b[0m\u001b[0md\u001b[0m\u001b[0;34m)\u001b[0m\u001b[0;34m\u001b[0m\u001b[0;34m\u001b[0m\u001b[0m\n\u001b[1;32m      6\u001b[0m \u001b[0;31m#d.to_netcdf(path ='new_lbcs_vert_fix/gfs_bndy_chem_'+date+'.tile7.000.nc')\u001b[0m\u001b[0;34m\u001b[0m\u001b[0;34m\u001b[0m\u001b[0;34m\u001b[0m\u001b[0m\n",
      "\u001b[0;32m/home/rschwantes/RAPchem/analysis/FV3/RRFS/boundaries/ufs-chem-lbcs/regrid_naqfc_to_ufs.py\u001b[0m in \u001b[0;36mfix_all\u001b[0;34m(fname, cmaq_fname, grid_fname)\u001b[0m\n\u001b[1;32m      7\u001b[0m     \u001b[0mo\u001b[0m \u001b[0;34m=\u001b[0m \u001b[0mopen_cmaq_bl\u001b[0m\u001b[0;34m(\u001b[0m\u001b[0mlbcf\u001b[0m\u001b[0;34m=\u001b[0m\u001b[0mcmaq_fname\u001b[0m\u001b[0;34m)\u001b[0m\u001b[0;34m\u001b[0m\u001b[0;34m\u001b[0m\u001b[0m\n\u001b[1;32m      8\u001b[0m     \u001b[0mprint\u001b[0m\u001b[0;34m(\u001b[0m\u001b[0;34m'interpolating bottom'\u001b[0m\u001b[0;34m)\u001b[0m\u001b[0;34m\u001b[0m\u001b[0;34m\u001b[0m\u001b[0m\n\u001b[0;32m----> 9\u001b[0;31m     \u001b[0mbottom\u001b[0m \u001b[0;34m=\u001b[0m \u001b[0mfix_lbcs_bottom\u001b[0m\u001b[0;34m(\u001b[0m\u001b[0mo\u001b[0m\u001b[0;34m,\u001b[0m\u001b[0mfname\u001b[0m\u001b[0;34m,\u001b[0m\u001b[0mgrid_fname\u001b[0m\u001b[0;34m)\u001b[0m\u001b[0;34m\u001b[0m\u001b[0;34m\u001b[0m\u001b[0m\n\u001b[0m\u001b[1;32m     10\u001b[0m     \u001b[0mbottom\u001b[0m \u001b[0;34m=\u001b[0m \u001b[0mbottom\u001b[0m\u001b[0;34m.\u001b[0m\u001b[0mdrop\u001b[0m\u001b[0;34m(\u001b[0m\u001b[0;34m[\u001b[0m\u001b[0mn\u001b[0m \u001b[0;32mfor\u001b[0m \u001b[0mn\u001b[0m \u001b[0;32min\u001b[0m \u001b[0mbottom\u001b[0m\u001b[0;34m.\u001b[0m\u001b[0mdata_vars\u001b[0m \u001b[0;32mif\u001b[0m \u001b[0;34m'bottom'\u001b[0m \u001b[0;32mnot\u001b[0m \u001b[0;32min\u001b[0m \u001b[0mn\u001b[0m\u001b[0;34m]\u001b[0m\u001b[0;34m)\u001b[0m\u001b[0;34m\u001b[0m\u001b[0;34m\u001b[0m\u001b[0m\n\u001b[1;32m     11\u001b[0m     \u001b[0mprint\u001b[0m\u001b[0;34m(\u001b[0m\u001b[0;34m'interpolating top'\u001b[0m\u001b[0;34m)\u001b[0m\u001b[0;34m\u001b[0m\u001b[0;34m\u001b[0m\u001b[0m\n",
      "\u001b[0;32m/home/rschwantes/RAPchem/analysis/FV3/RRFS/boundaries/ufs-chem-lbcs/regrid_naqfc_to_ufs.py\u001b[0m in \u001b[0;36mfix_lbcs_bottom\u001b[0;34m(cmaq_lbcs, fname, grid_fname)\u001b[0m\n\u001b[1;32m     86\u001b[0m \u001b[0;32mdef\u001b[0m \u001b[0mfix_lbcs_bottom\u001b[0m\u001b[0;34m(\u001b[0m\u001b[0mcmaq_lbcs\u001b[0m\u001b[0;34m,\u001b[0m\u001b[0mfname\u001b[0m\u001b[0;34m,\u001b[0m\u001b[0mgrid_fname\u001b[0m\u001b[0;34m)\u001b[0m\u001b[0;34m:\u001b[0m\u001b[0;34m\u001b[0m\u001b[0;34m\u001b[0m\u001b[0m\n\u001b[1;32m     87\u001b[0m     \u001b[0morig\u001b[0m \u001b[0;34m=\u001b[0m \u001b[0mxr\u001b[0m\u001b[0;34m.\u001b[0m\u001b[0mopen_dataset\u001b[0m\u001b[0;34m(\u001b[0m\u001b[0mfname\u001b[0m\u001b[0;34m)\u001b[0m\u001b[0;34m\u001b[0m\u001b[0;34m\u001b[0m\u001b[0m\n\u001b[0;32m---> 88\u001b[0;31m     \u001b[0mlbcs_bottom\u001b[0m \u001b[0;34m=\u001b[0m \u001b[0mopen_fv3_lbcs_for_bottom\u001b[0m\u001b[0;34m(\u001b[0m\u001b[0mfname\u001b[0m\u001b[0;34m=\u001b[0m\u001b[0mfname\u001b[0m\u001b[0;34m,\u001b[0m\u001b[0mgrid_fname\u001b[0m\u001b[0;34m=\u001b[0m\u001b[0mgrid_fname\u001b[0m\u001b[0;34m)\u001b[0m\u001b[0;34m\u001b[0m\u001b[0;34m\u001b[0m\u001b[0m\n\u001b[0m\u001b[1;32m     89\u001b[0m     \u001b[0mlbcs\u001b[0m \u001b[0;34m=\u001b[0m \u001b[0minterp_bottom\u001b[0m\u001b[0;34m(\u001b[0m\u001b[0mlbcs_bottom\u001b[0m\u001b[0;34m,\u001b[0m\u001b[0mcmaq_lbcs\u001b[0m\u001b[0;34m)\u001b[0m\u001b[0;34m\u001b[0m\u001b[0;34m\u001b[0m\u001b[0m\n\u001b[1;32m     90\u001b[0m     \u001b[0mbottom_vars\u001b[0m \u001b[0;34m=\u001b[0m \u001b[0;34m[\u001b[0m\u001b[0mn\u001b[0m \u001b[0;32mfor\u001b[0m \u001b[0mn\u001b[0m \u001b[0;32min\u001b[0m \u001b[0mlbcs\u001b[0m\u001b[0;34m.\u001b[0m\u001b[0mdata_vars\u001b[0m \u001b[0;32mif\u001b[0m \u001b[0;34m'bottom'\u001b[0m \u001b[0;32min\u001b[0m \u001b[0mn\u001b[0m\u001b[0;34m]\u001b[0m\u001b[0;34m\u001b[0m\u001b[0;34m\u001b[0m\u001b[0m\n",
      "\u001b[0;32m/home/rschwantes/RAPchem/analysis/FV3/RRFS/boundaries/ufs-chem-lbcs/regrid_naqfc_to_ufs.py\u001b[0m in \u001b[0;36mopen_fv3_lbcs_for_bottom\u001b[0;34m(fname, grid_fname)\u001b[0m\n\u001b[1;32m    237\u001b[0m     \u001b[0mlbcs\u001b[0m\u001b[0;34m[\u001b[0m\u001b[0;34m'pres'\u001b[0m\u001b[0;34m]\u001b[0m \u001b[0;34m=\u001b[0m \u001b[0;34m(\u001b[0m\u001b[0;34m(\u001b[0m\u001b[0;34m'z'\u001b[0m\u001b[0;34m)\u001b[0m\u001b[0;34m,\u001b[0m\u001b[0mpres\u001b[0m\u001b[0;34m)\u001b[0m\u001b[0;34m\u001b[0m\u001b[0;34m\u001b[0m\u001b[0m\n\u001b[1;32m    238\u001b[0m     \u001b[0mlbcs\u001b[0m \u001b[0;34m=\u001b[0m \u001b[0mlbcs\u001b[0m\u001b[0;34m.\u001b[0m\u001b[0mexpand_dims\u001b[0m\u001b[0;34m(\u001b[0m\u001b[0;34m'y'\u001b[0m\u001b[0;34m)\u001b[0m\u001b[0;34m\u001b[0m\u001b[0;34m\u001b[0m\u001b[0m\n\u001b[0;32m--> 239\u001b[0;31m     \u001b[0mlbcs\u001b[0m\u001b[0;34m[\u001b[0m\u001b[0;34m'lon'\u001b[0m\u001b[0;34m]\u001b[0m \u001b[0;34m=\u001b[0m \u001b[0mlon\u001b[0m\u001b[0;34m.\u001b[0m\u001b[0mexpand_dims\u001b[0m\u001b[0;34m(\u001b[0m\u001b[0;34m'y'\u001b[0m\u001b[0;34m)\u001b[0m\u001b[0;34m\u001b[0m\u001b[0;34m\u001b[0m\u001b[0m\n\u001b[0m\u001b[1;32m    240\u001b[0m     \u001b[0mlbcs\u001b[0m\u001b[0;34m[\u001b[0m\u001b[0;34m'lat'\u001b[0m\u001b[0;34m]\u001b[0m \u001b[0;34m=\u001b[0m \u001b[0mlat\u001b[0m\u001b[0;34m.\u001b[0m\u001b[0mexpand_dims\u001b[0m\u001b[0;34m(\u001b[0m\u001b[0;34m'y'\u001b[0m\u001b[0;34m)\u001b[0m\u001b[0;34m\u001b[0m\u001b[0;34m\u001b[0m\u001b[0m\n\u001b[1;32m    241\u001b[0m     \u001b[0;32mreturn\u001b[0m \u001b[0mlbcs\u001b[0m\u001b[0;34m.\u001b[0m\u001b[0mset_coords\u001b[0m\u001b[0;34m(\u001b[0m\u001b[0;34m[\u001b[0m\u001b[0;34m'lon'\u001b[0m\u001b[0;34m,\u001b[0m\u001b[0;34m'lat'\u001b[0m\u001b[0;34m,\u001b[0m\u001b[0;34m'pres'\u001b[0m\u001b[0;34m]\u001b[0m\u001b[0;34m)\u001b[0m\u001b[0;34m.\u001b[0m\u001b[0mtranspose\u001b[0m\u001b[0;34m(\u001b[0m\u001b[0;34m'z'\u001b[0m\u001b[0;34m,\u001b[0m\u001b[0;34m'y'\u001b[0m\u001b[0;34m,\u001b[0m\u001b[0;34m'x'\u001b[0m\u001b[0;34m)\u001b[0m\u001b[0;34m\u001b[0m\u001b[0;34m\u001b[0m\u001b[0m\n",
      "\u001b[0;32m/home/rschwantes/anaconda3/envs/py36/lib/python3.6/site-packages/xarray/core/dataset.py\u001b[0m in \u001b[0;36m__setitem__\u001b[0;34m(self, key, value)\u001b[0m\n\u001b[1;32m   1290\u001b[0m             )\n\u001b[1;32m   1291\u001b[0m \u001b[0;34m\u001b[0m\u001b[0m\n\u001b[0;32m-> 1292\u001b[0;31m         \u001b[0mself\u001b[0m\u001b[0;34m.\u001b[0m\u001b[0mupdate\u001b[0m\u001b[0;34m(\u001b[0m\u001b[0;34m{\u001b[0m\u001b[0mkey\u001b[0m\u001b[0;34m:\u001b[0m \u001b[0mvalue\u001b[0m\u001b[0;34m}\u001b[0m\u001b[0;34m)\u001b[0m\u001b[0;34m\u001b[0m\u001b[0;34m\u001b[0m\u001b[0m\n\u001b[0m\u001b[1;32m   1293\u001b[0m \u001b[0;34m\u001b[0m\u001b[0m\n\u001b[1;32m   1294\u001b[0m     \u001b[0;32mdef\u001b[0m \u001b[0m__delitem__\u001b[0m\u001b[0;34m(\u001b[0m\u001b[0mself\u001b[0m\u001b[0;34m,\u001b[0m \u001b[0mkey\u001b[0m\u001b[0;34m:\u001b[0m \u001b[0mHashable\u001b[0m\u001b[0;34m)\u001b[0m \u001b[0;34m->\u001b[0m \u001b[0;32mNone\u001b[0m\u001b[0;34m:\u001b[0m\u001b[0;34m\u001b[0m\u001b[0;34m\u001b[0m\u001b[0m\n",
      "\u001b[0;32m/home/rschwantes/anaconda3/envs/py36/lib/python3.6/site-packages/xarray/core/dataset.py\u001b[0m in \u001b[0;36mupdate\u001b[0;34m(self, other, inplace)\u001b[0m\n\u001b[1;32m   3636\u001b[0m         \"\"\"\n\u001b[1;32m   3637\u001b[0m         \u001b[0m_check_inplace\u001b[0m\u001b[0;34m(\u001b[0m\u001b[0minplace\u001b[0m\u001b[0;34m)\u001b[0m\u001b[0;34m\u001b[0m\u001b[0;34m\u001b[0m\u001b[0m\n\u001b[0;32m-> 3638\u001b[0;31m         \u001b[0mmerge_result\u001b[0m \u001b[0;34m=\u001b[0m \u001b[0mdataset_update_method\u001b[0m\u001b[0;34m(\u001b[0m\u001b[0mself\u001b[0m\u001b[0;34m,\u001b[0m \u001b[0mother\u001b[0m\u001b[0;34m)\u001b[0m\u001b[0;34m\u001b[0m\u001b[0;34m\u001b[0m\u001b[0m\n\u001b[0m\u001b[1;32m   3639\u001b[0m         \u001b[0;32mreturn\u001b[0m \u001b[0mself\u001b[0m\u001b[0;34m.\u001b[0m\u001b[0m_replace\u001b[0m\u001b[0;34m(\u001b[0m\u001b[0minplace\u001b[0m\u001b[0;34m=\u001b[0m\u001b[0;32mTrue\u001b[0m\u001b[0;34m,\u001b[0m \u001b[0;34m**\u001b[0m\u001b[0mmerge_result\u001b[0m\u001b[0;34m.\u001b[0m\u001b[0m_asdict\u001b[0m\u001b[0;34m(\u001b[0m\u001b[0;34m)\u001b[0m\u001b[0;34m)\u001b[0m\u001b[0;34m\u001b[0m\u001b[0;34m\u001b[0m\u001b[0m\n\u001b[1;32m   3640\u001b[0m \u001b[0;34m\u001b[0m\u001b[0m\n",
      "\u001b[0;32m/home/rschwantes/anaconda3/envs/py36/lib/python3.6/site-packages/xarray/core/merge.py\u001b[0m in \u001b[0;36mdataset_update_method\u001b[0;34m(dataset, other)\u001b[0m\n\u001b[1;32m    935\u001b[0m         \u001b[0mpriority_arg\u001b[0m\u001b[0;34m=\u001b[0m\u001b[0;36m1\u001b[0m\u001b[0;34m,\u001b[0m\u001b[0;34m\u001b[0m\u001b[0;34m\u001b[0m\u001b[0m\n\u001b[1;32m    936\u001b[0m         \u001b[0mindexes\u001b[0m\u001b[0;34m=\u001b[0m\u001b[0mdataset\u001b[0m\u001b[0;34m.\u001b[0m\u001b[0mindexes\u001b[0m\u001b[0;34m,\u001b[0m\u001b[0;34m\u001b[0m\u001b[0;34m\u001b[0m\u001b[0m\n\u001b[0;32m--> 937\u001b[0;31m         \u001b[0mcombine_attrs\u001b[0m\u001b[0;34m=\u001b[0m\u001b[0;34m\"override\"\u001b[0m\u001b[0;34m,\u001b[0m\u001b[0;34m\u001b[0m\u001b[0;34m\u001b[0m\u001b[0m\n\u001b[0m\u001b[1;32m    938\u001b[0m     )\n",
      "\u001b[0;32m/home/rschwantes/anaconda3/envs/py36/lib/python3.6/site-packages/xarray/core/merge.py\u001b[0m in \u001b[0;36mmerge_core\u001b[0;34m(objects, compat, join, combine_attrs, priority_arg, explicit_coords, indexes, fill_value)\u001b[0m\n\u001b[1;32m    590\u001b[0m     \u001b[0mcoerced\u001b[0m \u001b[0;34m=\u001b[0m \u001b[0mcoerce_pandas_values\u001b[0m\u001b[0;34m(\u001b[0m\u001b[0mobjects\u001b[0m\u001b[0;34m)\u001b[0m\u001b[0;34m\u001b[0m\u001b[0;34m\u001b[0m\u001b[0m\n\u001b[1;32m    591\u001b[0m     aligned = deep_align(\n\u001b[0;32m--> 592\u001b[0;31m         \u001b[0mcoerced\u001b[0m\u001b[0;34m,\u001b[0m \u001b[0mjoin\u001b[0m\u001b[0;34m=\u001b[0m\u001b[0mjoin\u001b[0m\u001b[0;34m,\u001b[0m \u001b[0mcopy\u001b[0m\u001b[0;34m=\u001b[0m\u001b[0;32mFalse\u001b[0m\u001b[0;34m,\u001b[0m \u001b[0mindexes\u001b[0m\u001b[0;34m=\u001b[0m\u001b[0mindexes\u001b[0m\u001b[0;34m,\u001b[0m \u001b[0mfill_value\u001b[0m\u001b[0;34m=\u001b[0m\u001b[0mfill_value\u001b[0m\u001b[0;34m\u001b[0m\u001b[0;34m\u001b[0m\u001b[0m\n\u001b[0m\u001b[1;32m    593\u001b[0m     )\n\u001b[1;32m    594\u001b[0m     \u001b[0mcollected\u001b[0m \u001b[0;34m=\u001b[0m \u001b[0mcollect_variables_and_indexes\u001b[0m\u001b[0;34m(\u001b[0m\u001b[0maligned\u001b[0m\u001b[0;34m)\u001b[0m\u001b[0;34m\u001b[0m\u001b[0;34m\u001b[0m\u001b[0m\n",
      "\u001b[0;32m/home/rschwantes/anaconda3/envs/py36/lib/python3.6/site-packages/xarray/core/alignment.py\u001b[0m in \u001b[0;36mdeep_align\u001b[0;34m(objects, join, copy, indexes, exclude, raise_on_invalid, fill_value)\u001b[0m\n\u001b[1;32m    410\u001b[0m         \u001b[0mindexes\u001b[0m\u001b[0;34m=\u001b[0m\u001b[0mindexes\u001b[0m\u001b[0;34m,\u001b[0m\u001b[0;34m\u001b[0m\u001b[0;34m\u001b[0m\u001b[0m\n\u001b[1;32m    411\u001b[0m         \u001b[0mexclude\u001b[0m\u001b[0;34m=\u001b[0m\u001b[0mexclude\u001b[0m\u001b[0;34m,\u001b[0m\u001b[0;34m\u001b[0m\u001b[0;34m\u001b[0m\u001b[0m\n\u001b[0;32m--> 412\u001b[0;31m         \u001b[0mfill_value\u001b[0m\u001b[0;34m=\u001b[0m\u001b[0mfill_value\u001b[0m\u001b[0;34m,\u001b[0m\u001b[0;34m\u001b[0m\u001b[0;34m\u001b[0m\u001b[0m\n\u001b[0m\u001b[1;32m    413\u001b[0m     )\n\u001b[1;32m    414\u001b[0m \u001b[0;34m\u001b[0m\u001b[0m\n",
      "\u001b[0;32m/home/rschwantes/anaconda3/envs/py36/lib/python3.6/site-packages/xarray/core/alignment.py\u001b[0m in \u001b[0;36malign\u001b[0;34m(join, copy, indexes, exclude, fill_value, *objects)\u001b[0m\n\u001b[1;32m    318\u001b[0m                     \u001b[0;34m\"aligned because they have different dimension size(s) %r \"\u001b[0m\u001b[0;34m\u001b[0m\u001b[0;34m\u001b[0m\u001b[0m\n\u001b[1;32m    319\u001b[0m                     \u001b[0;34m\"than the size of the aligned dimension labels: %r\"\u001b[0m\u001b[0;34m\u001b[0m\u001b[0;34m\u001b[0m\u001b[0m\n\u001b[0;32m--> 320\u001b[0;31m                     \u001b[0;34m%\u001b[0m \u001b[0;34m(\u001b[0m\u001b[0mdim\u001b[0m\u001b[0;34m,\u001b[0m \u001b[0munlabeled_sizes\u001b[0m\u001b[0;34m,\u001b[0m \u001b[0mlabeled_size\u001b[0m\u001b[0;34m)\u001b[0m\u001b[0;34m\u001b[0m\u001b[0;34m\u001b[0m\u001b[0m\n\u001b[0m\u001b[1;32m    321\u001b[0m                 )\n\u001b[1;32m    322\u001b[0m \u001b[0;34m\u001b[0m\u001b[0m\n",
      "\u001b[0;31mValueError\u001b[0m: arguments without labels along dimension 'x' cannot be aligned because they have different dimension size(s) {200} than the size of the aligned dimension labels: 396"
     ]
    }
   ],
   "source": [
    "date = '01'\n",
    "d = rnu.fix_all('lbcs/gfs_bndy_chem_'+date+'.tile7.000.nc',\n",
    "                'aqm_conus_12km_geos_2006'+date+'_static_35L.ncf',\n",
    "                grid_fname='lbcs_13/grid_spec.nc')\n",
    "print(d)\n",
    "#d.to_netcdf(path ='new_lbcs_vert_fix/gfs_bndy_chem_'+date+'.tile7.000.nc')\n",
    "#del d"
   ]
  },
  {
   "cell_type": "code",
   "execution_count": null,
   "metadata": {},
   "outputs": [],
   "source": [
    "date = '02'\n",
    "d = rnu.fix_all('lbcs/gfs_bndy_chem_'+date+'.tile7.000.nc','aqm_conus_12km_geos_2006'+date+'_static_35L.ncf')\n",
    "d.to_netcdf(path ='new_lbcs_vert_fix/gfs_bndy_chem_'+date+'.tile7.000.nc')\n",
    "del d"
   ]
  },
  {
   "cell_type": "code",
   "execution_count": null,
   "metadata": {},
   "outputs": [],
   "source": [
    "date = '03'\n",
    "d = rnu.fix_all('lbcs/gfs_bndy_chem_'+date+'.tile7.000.nc','aqm_conus_12km_geos_2006'+date+'_static_35L.ncf')\n",
    "d.to_netcdf(path ='new_lbcs_vert_fix/gfs_bndy_chem_'+date+'.tile7.000.nc')\n",
    "del d"
   ]
  },
  {
   "cell_type": "code",
   "execution_count": null,
   "metadata": {},
   "outputs": [],
   "source": [
    "date = '04'\n",
    "d = rnu.fix_all('lbcs/gfs_bndy_chem_'+date+'.tile7.000.nc','aqm_conus_12km_geos_2006'+date+'_static_35L.ncf')\n",
    "d.to_netcdf(path ='new_lbcs_vert_fix/gfs_bndy_chem_'+date+'.tile7.000.nc')\n",
    "del d"
   ]
  },
  {
   "cell_type": "code",
   "execution_count": null,
   "metadata": {},
   "outputs": [],
   "source": [
    "date = '05'\n",
    "d = rnu.fix_all('lbcs/gfs_bndy_chem_'+date+'.tile7.000.nc','aqm_conus_12km_geos_2006'+date+'_static_35L.ncf')\n",
    "d.to_netcdf(path ='new_lbcs_vert_fix/gfs_bndy_chem_'+date+'.tile7.000.nc')\n",
    "del d"
   ]
  },
  {
   "cell_type": "code",
   "execution_count": null,
   "metadata": {},
   "outputs": [],
   "source": [
    "date = '06'\n",
    "d = rnu.fix_all('lbcs/gfs_bndy_chem_'+date+'.tile7.000.nc','aqm_conus_12km_geos_2006'+date+'_static_35L.ncf')\n",
    "d.to_netcdf(path ='new_lbcs_vert_fix/gfs_bndy_chem_'+date+'.tile7.000.nc')\n",
    "del d"
   ]
  },
  {
   "cell_type": "code",
   "execution_count": null,
   "metadata": {},
   "outputs": [],
   "source": [
    "date = '07'\n",
    "d = rnu.fix_all('lbcs/gfs_bndy_chem_'+date+'.tile7.000.nc','aqm_conus_12km_geos_2006'+date+'_static_35L.ncf')\n",
    "d.to_netcdf(path ='new_lbcs_vert_fix/gfs_bndy_chem_'+date+'.tile7.000.nc')\n",
    "del d"
   ]
  },
  {
   "cell_type": "code",
   "execution_count": null,
   "metadata": {},
   "outputs": [],
   "source": [
    "date = '08'\n",
    "d = rnu.fix_all('lbcs/gfs_bndy_chem_'+date+'.tile7.000.nc','aqm_conus_12km_geos_2006'+date+'_static_35L.ncf')\n",
    "d.to_netcdf(path ='new_lbcs_vert_fix/gfs_bndy_chem_'+date+'.tile7.000.nc')\n",
    "del d"
   ]
  },
  {
   "cell_type": "code",
   "execution_count": null,
   "metadata": {},
   "outputs": [],
   "source": [
    "date = '09'\n",
    "d = rnu.fix_all('lbcs/gfs_bndy_chem_'+date+'.tile7.000.nc','aqm_conus_12km_geos_2006'+date+'_static_35L.ncf')\n",
    "d.to_netcdf(path ='new_lbcs_vert_fix/gfs_bndy_chem_'+date+'.tile7.000.nc')\n",
    "del d"
   ]
  },
  {
   "cell_type": "code",
   "execution_count": null,
   "metadata": {},
   "outputs": [],
   "source": [
    "date = '10'\n",
    "d = rnu.fix_all('lbcs/gfs_bndy_chem_'+date+'.tile7.000.nc','aqm_conus_12km_geos_2006'+date+'_static_35L.ncf')\n",
    "d.to_netcdf(path ='new_lbcs_vert_fix/gfs_bndy_chem_'+date+'.tile7.000.nc')\n",
    "del d"
   ]
  },
  {
   "cell_type": "code",
   "execution_count": null,
   "metadata": {},
   "outputs": [],
   "source": [
    "date = '11'\n",
    "d = rnu.fix_all('lbcs/gfs_bndy_chem_'+date+'.tile7.000.nc','aqm_conus_12km_geos_2006'+date+'_static_35L.ncf')\n",
    "d.to_netcdf(path ='new_lbcs_vert_fix/gfs_bndy_chem_'+date+'.tile7.000.nc')\n",
    "del d"
   ]
  },
  {
   "cell_type": "code",
   "execution_count": null,
   "metadata": {},
   "outputs": [],
   "source": [
    "date = '12'\n",
    "d = rnu.fix_all('lbcs/gfs_bndy_chem_'+date+'.tile7.000.nc','aqm_conus_12km_geos_2006'+date+'_static_35L.ncf')\n",
    "d.to_netcdf(path ='new_lbcs_vert_fix/gfs_bndy_chem_'+date+'.tile7.000.nc')\n",
    "del d"
   ]
  },
  {
   "cell_type": "code",
   "execution_count": null,
   "metadata": {},
   "outputs": [],
   "source": []
  },
  {
   "cell_type": "code",
   "execution_count": null,
   "metadata": {},
   "outputs": [],
   "source": []
  },
  {
   "cell_type": "code",
   "execution_count": null,
   "metadata": {},
   "outputs": [],
   "source": []
  },
  {
   "cell_type": "code",
   "execution_count": null,
   "metadata": {},
   "outputs": [],
   "source": []
  }
 ],
 "metadata": {
  "kernelspec": {
   "display_name": "Python 3",
   "language": "python",
   "name": "python3"
  },
  "language_info": {
   "codemirror_mode": {
    "name": "ipython",
    "version": 3
   },
   "file_extension": ".py",
   "mimetype": "text/x-python",
   "name": "python",
   "nbconvert_exporter": "python",
   "pygments_lexer": "ipython3",
   "version": "3.6.10"
  }
 },
 "nbformat": 4,
 "nbformat_minor": 4
}
